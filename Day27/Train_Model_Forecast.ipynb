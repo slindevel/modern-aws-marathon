{
 "cells": [
  {
   "cell_type": "markdown",
   "metadata": {},
   "source": [
    "## 訓練預測模型\n",
    "在這個筆記本中，我們將訓練一個深度學習模型，該模型基於歷史價格數據，學習下一個交易日是否會觸及目標價格或止損價格，以進行多頭/空頭交易。\n",
    "\n",
    "模型：\n",
    "* 多層感知器（MLP）（前向神經網絡）\n",
    "* 3層：輸入、隱藏、輸出\n",
    "* 二元分類\n",
    "* 輸入：收盤價，SMA（2到16），ROC（2到16）\n",
    "* 輸出：在接下來的五天內，多頭或空頭交易是否觸及了2%的利潤目標，而未觸及1.5%的止損點？"
   ]
  },
  {
   "cell_type": "code",
   "execution_count": 1,
   "metadata": {
    "vscode": {
     "languageId": "plaintext"
    }
   },
   "outputs": [
    {
     "name": "stdout",
     "output_type": "stream",
     "text": [
      "model_long_short_predict\n"
     ]
    }
   ],
   "source": [
    "%run ./init_model.py 'model_long_short_predict'"
   ]
  },
  {
   "cell_type": "code",
   "execution_count": 2,
   "metadata": {
    "vscode": {
     "languageId": "plaintext"
    }
   },
   "outputs": [
    {
     "data": {
      "text/plain": [
       "'algotrading-2023-09'"
      ]
     },
     "execution_count": 2,
     "metadata": {},
     "output_type": "execute_result"
    }
   ],
   "source": [
    "# get S3 bucket\n",
    "s3bucket=!(aws s3 ls | grep algotrading- | awk  '{print $3}')\n",
    "s3bucket=s3bucket[0]\n",
    "s3bucket"
   ]
  },
  {
   "cell_type": "code",
   "execution_count": 3,
   "metadata": {
    "vscode": {
     "languageId": "plaintext"
    }
   },
   "outputs": [
    {
     "name": "stdout",
     "output_type": "stream",
     "text": [
      "Collecting PyAthena\n",
      "  Obtaining dependency information for PyAthena from https://files.pythonhosted.org/packages/1d/35/777bbc5f9e40d8d57967c2794993555e6e87d3a721ade44893252bccd6a9/pyathena-3.0.8-py3-none-any.whl.metadata\n",
      "  Downloading pyathena-3.0.8-py3-none-any.whl.metadata (72 kB)\n",
      "\u001b[2K     \u001b[90m━━━━━━━━━━━━━━━━━━━━━━━━━━━━━━━━━━━━━━━━\u001b[0m \u001b[32m73.0/73.0 kB\u001b[0m \u001b[31m6.2 MB/s\u001b[0m eta \u001b[36m0:00:00\u001b[0m\n",
      "\u001b[?25hRequirement already satisfied: boto3>=1.26.4 in /home/ec2-user/anaconda3/envs/python3/lib/python3.10/site-packages (from PyAthena) (1.28.41)\n",
      "Requirement already satisfied: botocore>=1.29.4 in /home/ec2-user/anaconda3/envs/python3/lib/python3.10/site-packages (from PyAthena) (1.31.41)\n",
      "Requirement already satisfied: fsspec in /home/ec2-user/anaconda3/envs/python3/lib/python3.10/site-packages (from PyAthena) (2023.6.0)\n",
      "Requirement already satisfied: tenacity>=4.1.0 in /home/ec2-user/anaconda3/envs/python3/lib/python3.10/site-packages (from PyAthena) (8.2.2)\n",
      "Requirement already satisfied: jmespath<2.0.0,>=0.7.1 in /home/ec2-user/anaconda3/envs/python3/lib/python3.10/site-packages (from boto3>=1.26.4->PyAthena) (1.0.1)\n",
      "Requirement already satisfied: s3transfer<0.7.0,>=0.6.0 in /home/ec2-user/anaconda3/envs/python3/lib/python3.10/site-packages (from boto3>=1.26.4->PyAthena) (0.6.1)\n",
      "Requirement already satisfied: python-dateutil<3.0.0,>=2.1 in /home/ec2-user/anaconda3/envs/python3/lib/python3.10/site-packages (from botocore>=1.29.4->PyAthena) (2.8.2)\n",
      "Requirement already satisfied: urllib3<1.27,>=1.25.4 in /home/ec2-user/anaconda3/envs/python3/lib/python3.10/site-packages (from botocore>=1.29.4->PyAthena) (1.26.14)\n",
      "Requirement already satisfied: six>=1.5 in /home/ec2-user/anaconda3/envs/python3/lib/python3.10/site-packages (from python-dateutil<3.0.0,>=2.1->botocore>=1.29.4->PyAthena) (1.16.0)\n",
      "Downloading pyathena-3.0.8-py3-none-any.whl (73 kB)\n",
      "\u001b[2K   \u001b[90m━━━━━━━━━━━━━━━━━━━━━━━━━━━━━━━━━━━━━━━━\u001b[0m \u001b[32m73.4/73.4 kB\u001b[0m \u001b[31m11.6 MB/s\u001b[0m eta \u001b[36m0:00:00\u001b[0m\n",
      "\u001b[?25hInstalling collected packages: PyAthena\n",
      "Successfully installed PyAthena-3.0.8\n"
     ]
    }
   ],
   "source": [
    "import sys\n",
    "!{sys.executable} -m pip install PyAthena"
   ]
  },
  {
   "cell_type": "code",
   "execution_count": 4,
   "metadata": {
    "vscode": {
     "languageId": "plaintext"
    }
   },
   "outputs": [],
   "source": [
    "import os\n",
    "import sagemaker as sage\n",
    "from sagemaker import get_execution_role\n",
    "import datetime\n",
    "from sagemaker.tensorflow import TensorFlow\n",
    "import json\n",
    "\n",
    "role = get_execution_role()\n",
    "sess = sage.Session()\n",
    "region = sess.boto_session.region_name"
   ]
  },
  {
   "cell_type": "code",
   "execution_count": 5,
   "metadata": {
    "vscode": {
     "languageId": "plaintext"
    }
   },
   "outputs": [
    {
     "name": "stderr",
     "output_type": "stream",
     "text": [
      "/tmp/ipykernel_9595/721653243.py:6: UserWarning: pandas only supports SQLAlchemy connectable (engine/connection) or database string URI or sqlite3 DBAPI2 connection. Other DBAPI2 objects are not tested. Please consider using SQLAlchemy.\n",
      "  df = pd.read_sql(\"SELECT * FROM algo_data.hist_data_daily;\", conn)\n"
     ]
    },
    {
     "data": {
      "text/html": [
       "<div>\n",
       "<style scoped>\n",
       "    .dataframe tbody tr th:only-of-type {\n",
       "        vertical-align: middle;\n",
       "    }\n",
       "\n",
       "    .dataframe tbody tr th {\n",
       "        vertical-align: top;\n",
       "    }\n",
       "\n",
       "    .dataframe thead th {\n",
       "        text-align: right;\n",
       "    }\n",
       "</style>\n",
       "<table border=\"1\" class=\"dataframe\">\n",
       "  <thead>\n",
       "    <tr style=\"text-align: right;\">\n",
       "      <th></th>\n",
       "      <th>sym</th>\n",
       "      <th>open</th>\n",
       "      <th>high</th>\n",
       "      <th>low</th>\n",
       "      <th>close</th>\n",
       "      <th>vol</th>\n",
       "    </tr>\n",
       "    <tr>\n",
       "      <th>dt</th>\n",
       "      <th></th>\n",
       "      <th></th>\n",
       "      <th></th>\n",
       "      <th></th>\n",
       "      <th></th>\n",
       "      <th></th>\n",
       "    </tr>\n",
       "  </thead>\n",
       "  <tbody>\n",
       "    <tr>\n",
       "      <th>2000-01-03</th>\n",
       "      <td>JNJ</td>\n",
       "      <td>93.13</td>\n",
       "      <td>93.75</td>\n",
       "      <td>91.69</td>\n",
       "      <td>92.19</td>\n",
       "      <td>2321200.0</td>\n",
       "    </tr>\n",
       "    <tr>\n",
       "      <th>2000-01-04</th>\n",
       "      <td>JNJ</td>\n",
       "      <td>91.13</td>\n",
       "      <td>91.56</td>\n",
       "      <td>88.75</td>\n",
       "      <td>88.81</td>\n",
       "      <td>3911100.0</td>\n",
       "    </tr>\n",
       "    <tr>\n",
       "      <th>2000-01-05</th>\n",
       "      <td>JNJ</td>\n",
       "      <td>88.81</td>\n",
       "      <td>90.81</td>\n",
       "      <td>88.44</td>\n",
       "      <td>90.19</td>\n",
       "      <td>4114800.0</td>\n",
       "    </tr>\n",
       "    <tr>\n",
       "      <th>2000-01-06</th>\n",
       "      <td>JNJ</td>\n",
       "      <td>90.31</td>\n",
       "      <td>93.94</td>\n",
       "      <td>90.13</td>\n",
       "      <td>92.56</td>\n",
       "      <td>2678200.0</td>\n",
       "    </tr>\n",
       "    <tr>\n",
       "      <th>2000-01-07</th>\n",
       "      <td>JNJ</td>\n",
       "      <td>94.13</td>\n",
       "      <td>96.94</td>\n",
       "      <td>93.63</td>\n",
       "      <td>96.50</td>\n",
       "      <td>4931900.0</td>\n",
       "    </tr>\n",
       "  </tbody>\n",
       "</table>\n",
       "</div>"
      ],
      "text/plain": [
       "            sym   open   high    low  close        vol\n",
       "dt                                                    \n",
       "2000-01-03  JNJ  93.13  93.75  91.69  92.19  2321200.0\n",
       "2000-01-04  JNJ  91.13  91.56  88.75  88.81  3911100.0\n",
       "2000-01-05  JNJ  88.81  90.81  88.44  90.19  4114800.0\n",
       "2000-01-06  JNJ  90.31  93.94  90.13  92.56  2678200.0\n",
       "2000-01-07  JNJ  94.13  96.94  93.63  96.50  4931900.0"
      ]
     },
     "execution_count": 5,
     "metadata": {},
     "output_type": "execute_result"
    }
   ],
   "source": [
    "import pandas as pd\n",
    "from pyathena import connect\n",
    "conn = connect(s3_staging_dir='s3://'+s3bucket+'/results/',\n",
    "               region_name=region)\n",
    "\n",
    "df = pd.read_sql(\"SELECT * FROM algo_data.hist_data_daily;\", conn)\n",
    "df.set_index(pd.DatetimeIndex(df['dt']),inplace=True)\n",
    "del df['dt']\n",
    "df.head()"
   ]
  },
  {
   "cell_type": "code",
   "execution_count": 6,
   "metadata": {
    "vscode": {
     "languageId": "plaintext"
    }
   },
   "outputs": [
    {
     "name": "stdout",
     "output_type": "stream",
     "text": [
      "count=5200\n"
     ]
    },
    {
     "data": {
      "text/html": [
       "<div>\n",
       "<style scoped>\n",
       "    .dataframe tbody tr th:only-of-type {\n",
       "        vertical-align: middle;\n",
       "    }\n",
       "\n",
       "    .dataframe tbody tr th {\n",
       "        vertical-align: top;\n",
       "    }\n",
       "\n",
       "    .dataframe thead th {\n",
       "        text-align: right;\n",
       "    }\n",
       "</style>\n",
       "<table border=\"1\" class=\"dataframe\">\n",
       "  <thead>\n",
       "    <tr style=\"text-align: right;\">\n",
       "      <th></th>\n",
       "      <th>sym</th>\n",
       "      <th>open</th>\n",
       "      <th>high</th>\n",
       "      <th>low</th>\n",
       "      <th>close</th>\n",
       "      <th>vol</th>\n",
       "    </tr>\n",
       "    <tr>\n",
       "      <th>dt</th>\n",
       "      <th></th>\n",
       "      <th></th>\n",
       "      <th></th>\n",
       "      <th></th>\n",
       "      <th></th>\n",
       "      <th></th>\n",
       "    </tr>\n",
       "  </thead>\n",
       "  <tbody>\n",
       "    <tr>\n",
       "      <th>2000-01-03</th>\n",
       "      <td>JNJ</td>\n",
       "      <td>93.13</td>\n",
       "      <td>93.75</td>\n",
       "      <td>91.69</td>\n",
       "      <td>92.19</td>\n",
       "      <td>2321200.0</td>\n",
       "    </tr>\n",
       "    <tr>\n",
       "      <th>2000-01-04</th>\n",
       "      <td>JNJ</td>\n",
       "      <td>91.13</td>\n",
       "      <td>91.56</td>\n",
       "      <td>88.75</td>\n",
       "      <td>88.81</td>\n",
       "      <td>3911100.0</td>\n",
       "    </tr>\n",
       "    <tr>\n",
       "      <th>2000-01-05</th>\n",
       "      <td>JNJ</td>\n",
       "      <td>88.81</td>\n",
       "      <td>90.81</td>\n",
       "      <td>88.44</td>\n",
       "      <td>90.19</td>\n",
       "      <td>4114800.0</td>\n",
       "    </tr>\n",
       "    <tr>\n",
       "      <th>2000-01-06</th>\n",
       "      <td>JNJ</td>\n",
       "      <td>90.31</td>\n",
       "      <td>93.94</td>\n",
       "      <td>90.13</td>\n",
       "      <td>92.56</td>\n",
       "      <td>2678200.0</td>\n",
       "    </tr>\n",
       "    <tr>\n",
       "      <th>2000-01-07</th>\n",
       "      <td>JNJ</td>\n",
       "      <td>94.13</td>\n",
       "      <td>96.94</td>\n",
       "      <td>93.63</td>\n",
       "      <td>96.50</td>\n",
       "      <td>4931900.0</td>\n",
       "    </tr>\n",
       "  </tbody>\n",
       "</table>\n",
       "</div>"
      ],
      "text/plain": [
       "            sym   open   high    low  close        vol\n",
       "dt                                                    \n",
       "2000-01-03  JNJ  93.13  93.75  91.69  92.19  2321200.0\n",
       "2000-01-04  JNJ  91.13  91.56  88.75  88.81  3911100.0\n",
       "2000-01-05  JNJ  88.81  90.81  88.44  90.19  4114800.0\n",
       "2000-01-06  JNJ  90.31  93.94  90.13  92.56  2678200.0\n",
       "2000-01-07  JNJ  94.13  96.94  93.63  96.50  4931900.0"
      ]
     },
     "execution_count": 6,
     "metadata": {},
     "output_type": "execute_result"
    }
   ],
   "source": [
    "df.to_csv('local/'+model_name+'/input/data/training/data_orig.csv')\n",
    "print(\"count=%s\" % len(df))\n",
    "df.head()"
   ]
  },
  {
   "cell_type": "code",
   "execution_count": 7,
   "metadata": {
    "vscode": {
     "languageId": "plaintext"
    }
   },
   "outputs": [
    {
     "name": "stderr",
     "output_type": "stream",
     "text": [
      "Matplotlib is building the font cache; this may take a moment.\n"
     ]
    },
    {
     "data": {
      "application/javascript": "/* Put everything inside the global mpl namespace */\n/* global mpl */\nwindow.mpl = {};\n\nmpl.get_websocket_type = function () {\n    if (typeof WebSocket !== 'undefined') {\n        return WebSocket;\n    } else if (typeof MozWebSocket !== 'undefined') {\n        return MozWebSocket;\n    } else {\n        alert(\n            'Your browser does not have WebSocket support. ' +\n                'Please try Chrome, Safari or Firefox ≥ 6. ' +\n                'Firefox 4 and 5 are also supported but you ' +\n                'have to enable WebSockets in about:config.'\n        );\n    }\n};\n\nmpl.figure = function (figure_id, websocket, ondownload, parent_element) {\n    this.id = figure_id;\n\n    this.ws = websocket;\n\n    this.supports_binary = this.ws.binaryType !== undefined;\n\n    if (!this.supports_binary) {\n        var warnings = document.getElementById('mpl-warnings');\n        if (warnings) {\n            warnings.style.display = 'block';\n            warnings.textContent =\n                'This browser does not support binary websocket messages. ' +\n                'Performance may be slow.';\n        }\n    }\n\n    this.imageObj = new Image();\n\n    this.context = undefined;\n    this.message = undefined;\n    this.canvas = undefined;\n    this.rubberband_canvas = undefined;\n    this.rubberband_context = undefined;\n    this.format_dropdown = undefined;\n\n    this.image_mode = 'full';\n\n    this.root = document.createElement('div');\n    this.root.setAttribute('style', 'display: inline-block');\n    this._root_extra_style(this.root);\n\n    parent_element.appendChild(this.root);\n\n    this._init_header(this);\n    this._init_canvas(this);\n    this._init_toolbar(this);\n\n    var fig = this;\n\n    this.waiting = false;\n\n    this.ws.onopen = function () {\n        fig.send_message('supports_binary', { value: fig.supports_binary });\n        fig.send_message('send_image_mode', {});\n        if (fig.ratio !== 1) {\n            fig.send_message('set_device_pixel_ratio', {\n                device_pixel_ratio: fig.ratio,\n            });\n        }\n        fig.send_message('refresh', {});\n    };\n\n    this.imageObj.onload = function () {\n        if (fig.image_mode === 'full') {\n            // Full images could contain transparency (where diff images\n            // almost always do), so we need to clear the canvas so that\n            // there is no ghosting.\n            fig.context.clearRect(0, 0, fig.canvas.width, fig.canvas.height);\n        }\n        fig.context.drawImage(fig.imageObj, 0, 0);\n    };\n\n    this.imageObj.onunload = function () {\n        fig.ws.close();\n    };\n\n    this.ws.onmessage = this._make_on_message_function(this);\n\n    this.ondownload = ondownload;\n};\n\nmpl.figure.prototype._init_header = function () {\n    var titlebar = document.createElement('div');\n    titlebar.classList =\n        'ui-dialog-titlebar ui-widget-header ui-corner-all ui-helper-clearfix';\n    var titletext = document.createElement('div');\n    titletext.classList = 'ui-dialog-title';\n    titletext.setAttribute(\n        'style',\n        'width: 100%; text-align: center; padding: 3px;'\n    );\n    titlebar.appendChild(titletext);\n    this.root.appendChild(titlebar);\n    this.header = titletext;\n};\n\nmpl.figure.prototype._canvas_extra_style = function (_canvas_div) {};\n\nmpl.figure.prototype._root_extra_style = function (_canvas_div) {};\n\nmpl.figure.prototype._init_canvas = function () {\n    var fig = this;\n\n    var canvas_div = (this.canvas_div = document.createElement('div'));\n    canvas_div.setAttribute('tabindex', '0');\n    canvas_div.setAttribute(\n        'style',\n        'border: 1px solid #ddd;' +\n            'box-sizing: content-box;' +\n            'clear: both;' +\n            'min-height: 1px;' +\n            'min-width: 1px;' +\n            'outline: 0;' +\n            'overflow: hidden;' +\n            'position: relative;' +\n            'resize: both;' +\n            'z-index: 2;'\n    );\n\n    function on_keyboard_event_closure(name) {\n        return function (event) {\n            return fig.key_event(event, name);\n        };\n    }\n\n    canvas_div.addEventListener(\n        'keydown',\n        on_keyboard_event_closure('key_press')\n    );\n    canvas_div.addEventListener(\n        'keyup',\n        on_keyboard_event_closure('key_release')\n    );\n\n    this._canvas_extra_style(canvas_div);\n    this.root.appendChild(canvas_div);\n\n    var canvas = (this.canvas = document.createElement('canvas'));\n    canvas.classList.add('mpl-canvas');\n    canvas.setAttribute(\n        'style',\n        'box-sizing: content-box;' +\n            'pointer-events: none;' +\n            'position: relative;' +\n            'z-index: 0;'\n    );\n\n    this.context = canvas.getContext('2d');\n\n    var backingStore =\n        this.context.backingStorePixelRatio ||\n        this.context.webkitBackingStorePixelRatio ||\n        this.context.mozBackingStorePixelRatio ||\n        this.context.msBackingStorePixelRatio ||\n        this.context.oBackingStorePixelRatio ||\n        this.context.backingStorePixelRatio ||\n        1;\n\n    this.ratio = (window.devicePixelRatio || 1) / backingStore;\n\n    var rubberband_canvas = (this.rubberband_canvas = document.createElement(\n        'canvas'\n    ));\n    rubberband_canvas.setAttribute(\n        'style',\n        'box-sizing: content-box;' +\n            'left: 0;' +\n            'pointer-events: none;' +\n            'position: absolute;' +\n            'top: 0;' +\n            'z-index: 1;'\n    );\n\n    // Apply a ponyfill if ResizeObserver is not implemented by browser.\n    if (this.ResizeObserver === undefined) {\n        if (window.ResizeObserver !== undefined) {\n            this.ResizeObserver = window.ResizeObserver;\n        } else {\n            var obs = _JSXTOOLS_RESIZE_OBSERVER({});\n            this.ResizeObserver = obs.ResizeObserver;\n        }\n    }\n\n    this.resizeObserverInstance = new this.ResizeObserver(function (entries) {\n        var nentries = entries.length;\n        for (var i = 0; i < nentries; i++) {\n            var entry = entries[i];\n            var width, height;\n            if (entry.contentBoxSize) {\n                if (entry.contentBoxSize instanceof Array) {\n                    // Chrome 84 implements new version of spec.\n                    width = entry.contentBoxSize[0].inlineSize;\n                    height = entry.contentBoxSize[0].blockSize;\n                } else {\n                    // Firefox implements old version of spec.\n                    width = entry.contentBoxSize.inlineSize;\n                    height = entry.contentBoxSize.blockSize;\n                }\n            } else {\n                // Chrome <84 implements even older version of spec.\n                width = entry.contentRect.width;\n                height = entry.contentRect.height;\n            }\n\n            // Keep the size of the canvas and rubber band canvas in sync with\n            // the canvas container.\n            if (entry.devicePixelContentBoxSize) {\n                // Chrome 84 implements new version of spec.\n                canvas.setAttribute(\n                    'width',\n                    entry.devicePixelContentBoxSize[0].inlineSize\n                );\n                canvas.setAttribute(\n                    'height',\n                    entry.devicePixelContentBoxSize[0].blockSize\n                );\n            } else {\n                canvas.setAttribute('width', width * fig.ratio);\n                canvas.setAttribute('height', height * fig.ratio);\n            }\n            /* This rescales the canvas back to display pixels, so that it\n             * appears correct on HiDPI screens. */\n            canvas.style.width = width + 'px';\n            canvas.style.height = height + 'px';\n\n            rubberband_canvas.setAttribute('width', width);\n            rubberband_canvas.setAttribute('height', height);\n\n            // And update the size in Python. We ignore the initial 0/0 size\n            // that occurs as the element is placed into the DOM, which should\n            // otherwise not happen due to the minimum size styling.\n            if (fig.ws.readyState == 1 && width != 0 && height != 0) {\n                fig.request_resize(width, height);\n            }\n        }\n    });\n    this.resizeObserverInstance.observe(canvas_div);\n\n    function on_mouse_event_closure(name) {\n        /* User Agent sniffing is bad, but WebKit is busted:\n         * https://bugs.webkit.org/show_bug.cgi?id=144526\n         * https://bugs.webkit.org/show_bug.cgi?id=181818\n         * The worst that happens here is that they get an extra browser\n         * selection when dragging, if this check fails to catch them.\n         */\n        var UA = navigator.userAgent;\n        var isWebKit = /AppleWebKit/.test(UA) && !/Chrome/.test(UA);\n        if(isWebKit) {\n            return function (event) {\n                /* This prevents the web browser from automatically changing to\n                 * the text insertion cursor when the button is pressed. We\n                 * want to control all of the cursor setting manually through\n                 * the 'cursor' event from matplotlib */\n                event.preventDefault()\n                return fig.mouse_event(event, name);\n            };\n        } else {\n            return function (event) {\n                return fig.mouse_event(event, name);\n            };\n        }\n    }\n\n    canvas_div.addEventListener(\n        'mousedown',\n        on_mouse_event_closure('button_press')\n    );\n    canvas_div.addEventListener(\n        'mouseup',\n        on_mouse_event_closure('button_release')\n    );\n    canvas_div.addEventListener(\n        'dblclick',\n        on_mouse_event_closure('dblclick')\n    );\n    // Throttle sequential mouse events to 1 every 20ms.\n    canvas_div.addEventListener(\n        'mousemove',\n        on_mouse_event_closure('motion_notify')\n    );\n\n    canvas_div.addEventListener(\n        'mouseenter',\n        on_mouse_event_closure('figure_enter')\n    );\n    canvas_div.addEventListener(\n        'mouseleave',\n        on_mouse_event_closure('figure_leave')\n    );\n\n    canvas_div.addEventListener('wheel', function (event) {\n        if (event.deltaY < 0) {\n            event.step = 1;\n        } else {\n            event.step = -1;\n        }\n        on_mouse_event_closure('scroll')(event);\n    });\n\n    canvas_div.appendChild(canvas);\n    canvas_div.appendChild(rubberband_canvas);\n\n    this.rubberband_context = rubberband_canvas.getContext('2d');\n    this.rubberband_context.strokeStyle = '#000000';\n\n    this._resize_canvas = function (width, height, forward) {\n        if (forward) {\n            canvas_div.style.width = width + 'px';\n            canvas_div.style.height = height + 'px';\n        }\n    };\n\n    // Disable right mouse context menu.\n    canvas_div.addEventListener('contextmenu', function (_e) {\n        event.preventDefault();\n        return false;\n    });\n\n    function set_focus() {\n        canvas.focus();\n        canvas_div.focus();\n    }\n\n    window.setTimeout(set_focus, 100);\n};\n\nmpl.figure.prototype._init_toolbar = function () {\n    var fig = this;\n\n    var toolbar = document.createElement('div');\n    toolbar.classList = 'mpl-toolbar';\n    this.root.appendChild(toolbar);\n\n    function on_click_closure(name) {\n        return function (_event) {\n            return fig.toolbar_button_onclick(name);\n        };\n    }\n\n    function on_mouseover_closure(tooltip) {\n        return function (event) {\n            if (!event.currentTarget.disabled) {\n                return fig.toolbar_button_onmouseover(tooltip);\n            }\n        };\n    }\n\n    fig.buttons = {};\n    var buttonGroup = document.createElement('div');\n    buttonGroup.classList = 'mpl-button-group';\n    for (var toolbar_ind in mpl.toolbar_items) {\n        var name = mpl.toolbar_items[toolbar_ind][0];\n        var tooltip = mpl.toolbar_items[toolbar_ind][1];\n        var image = mpl.toolbar_items[toolbar_ind][2];\n        var method_name = mpl.toolbar_items[toolbar_ind][3];\n\n        if (!name) {\n            /* Instead of a spacer, we start a new button group. */\n            if (buttonGroup.hasChildNodes()) {\n                toolbar.appendChild(buttonGroup);\n            }\n            buttonGroup = document.createElement('div');\n            buttonGroup.classList = 'mpl-button-group';\n            continue;\n        }\n\n        var button = (fig.buttons[name] = document.createElement('button'));\n        button.classList = 'mpl-widget';\n        button.setAttribute('role', 'button');\n        button.setAttribute('aria-disabled', 'false');\n        button.addEventListener('click', on_click_closure(method_name));\n        button.addEventListener('mouseover', on_mouseover_closure(tooltip));\n\n        var icon_img = document.createElement('img');\n        icon_img.src = '_images/' + image + '.png';\n        icon_img.srcset = '_images/' + image + '_large.png 2x';\n        icon_img.alt = tooltip;\n        button.appendChild(icon_img);\n\n        buttonGroup.appendChild(button);\n    }\n\n    if (buttonGroup.hasChildNodes()) {\n        toolbar.appendChild(buttonGroup);\n    }\n\n    var fmt_picker = document.createElement('select');\n    fmt_picker.classList = 'mpl-widget';\n    toolbar.appendChild(fmt_picker);\n    this.format_dropdown = fmt_picker;\n\n    for (var ind in mpl.extensions) {\n        var fmt = mpl.extensions[ind];\n        var option = document.createElement('option');\n        option.selected = fmt === mpl.default_extension;\n        option.innerHTML = fmt;\n        fmt_picker.appendChild(option);\n    }\n\n    var status_bar = document.createElement('span');\n    status_bar.classList = 'mpl-message';\n    toolbar.appendChild(status_bar);\n    this.message = status_bar;\n};\n\nmpl.figure.prototype.request_resize = function (x_pixels, y_pixels) {\n    // Request matplotlib to resize the figure. Matplotlib will then trigger a resize in the client,\n    // which will in turn request a refresh of the image.\n    this.send_message('resize', { width: x_pixels, height: y_pixels });\n};\n\nmpl.figure.prototype.send_message = function (type, properties) {\n    properties['type'] = type;\n    properties['figure_id'] = this.id;\n    this.ws.send(JSON.stringify(properties));\n};\n\nmpl.figure.prototype.send_draw_message = function () {\n    if (!this.waiting) {\n        this.waiting = true;\n        this.ws.send(JSON.stringify({ type: 'draw', figure_id: this.id }));\n    }\n};\n\nmpl.figure.prototype.handle_save = function (fig, _msg) {\n    var format_dropdown = fig.format_dropdown;\n    var format = format_dropdown.options[format_dropdown.selectedIndex].value;\n    fig.ondownload(fig, format);\n};\n\nmpl.figure.prototype.handle_resize = function (fig, msg) {\n    var size = msg['size'];\n    if (size[0] !== fig.canvas.width || size[1] !== fig.canvas.height) {\n        fig._resize_canvas(size[0], size[1], msg['forward']);\n        fig.send_message('refresh', {});\n    }\n};\n\nmpl.figure.prototype.handle_rubberband = function (fig, msg) {\n    var x0 = msg['x0'] / fig.ratio;\n    var y0 = (fig.canvas.height - msg['y0']) / fig.ratio;\n    var x1 = msg['x1'] / fig.ratio;\n    var y1 = (fig.canvas.height - msg['y1']) / fig.ratio;\n    x0 = Math.floor(x0) + 0.5;\n    y0 = Math.floor(y0) + 0.5;\n    x1 = Math.floor(x1) + 0.5;\n    y1 = Math.floor(y1) + 0.5;\n    var min_x = Math.min(x0, x1);\n    var min_y = Math.min(y0, y1);\n    var width = Math.abs(x1 - x0);\n    var height = Math.abs(y1 - y0);\n\n    fig.rubberband_context.clearRect(\n        0,\n        0,\n        fig.canvas.width / fig.ratio,\n        fig.canvas.height / fig.ratio\n    );\n\n    fig.rubberband_context.strokeRect(min_x, min_y, width, height);\n};\n\nmpl.figure.prototype.handle_figure_label = function (fig, msg) {\n    // Updates the figure title.\n    fig.header.textContent = msg['label'];\n};\n\nmpl.figure.prototype.handle_cursor = function (fig, msg) {\n    fig.canvas_div.style.cursor = msg['cursor'];\n};\n\nmpl.figure.prototype.handle_message = function (fig, msg) {\n    fig.message.textContent = msg['message'];\n};\n\nmpl.figure.prototype.handle_draw = function (fig, _msg) {\n    // Request the server to send over a new figure.\n    fig.send_draw_message();\n};\n\nmpl.figure.prototype.handle_image_mode = function (fig, msg) {\n    fig.image_mode = msg['mode'];\n};\n\nmpl.figure.prototype.handle_history_buttons = function (fig, msg) {\n    for (var key in msg) {\n        if (!(key in fig.buttons)) {\n            continue;\n        }\n        fig.buttons[key].disabled = !msg[key];\n        fig.buttons[key].setAttribute('aria-disabled', !msg[key]);\n    }\n};\n\nmpl.figure.prototype.handle_navigate_mode = function (fig, msg) {\n    if (msg['mode'] === 'PAN') {\n        fig.buttons['Pan'].classList.add('active');\n        fig.buttons['Zoom'].classList.remove('active');\n    } else if (msg['mode'] === 'ZOOM') {\n        fig.buttons['Pan'].classList.remove('active');\n        fig.buttons['Zoom'].classList.add('active');\n    } else {\n        fig.buttons['Pan'].classList.remove('active');\n        fig.buttons['Zoom'].classList.remove('active');\n    }\n};\n\nmpl.figure.prototype.updated_canvas_event = function () {\n    // Called whenever the canvas gets updated.\n    this.send_message('ack', {});\n};\n\n// A function to construct a web socket function for onmessage handling.\n// Called in the figure constructor.\nmpl.figure.prototype._make_on_message_function = function (fig) {\n    return function socket_on_message(evt) {\n        if (evt.data instanceof Blob) {\n            var img = evt.data;\n            if (img.type !== 'image/png') {\n                /* FIXME: We get \"Resource interpreted as Image but\n                 * transferred with MIME type text/plain:\" errors on\n                 * Chrome.  But how to set the MIME type?  It doesn't seem\n                 * to be part of the websocket stream */\n                img.type = 'image/png';\n            }\n\n            /* Free the memory for the previous frames */\n            if (fig.imageObj.src) {\n                (window.URL || window.webkitURL).revokeObjectURL(\n                    fig.imageObj.src\n                );\n            }\n\n            fig.imageObj.src = (window.URL || window.webkitURL).createObjectURL(\n                img\n            );\n            fig.updated_canvas_event();\n            fig.waiting = false;\n            return;\n        } else if (\n            typeof evt.data === 'string' &&\n            evt.data.slice(0, 21) === 'data:image/png;base64'\n        ) {\n            fig.imageObj.src = evt.data;\n            fig.updated_canvas_event();\n            fig.waiting = false;\n            return;\n        }\n\n        var msg = JSON.parse(evt.data);\n        var msg_type = msg['type'];\n\n        // Call the  \"handle_{type}\" callback, which takes\n        // the figure and JSON message as its only arguments.\n        try {\n            var callback = fig['handle_' + msg_type];\n        } catch (e) {\n            console.log(\n                \"No handler for the '\" + msg_type + \"' message type: \",\n                msg\n            );\n            return;\n        }\n\n        if (callback) {\n            try {\n                // console.log(\"Handling '\" + msg_type + \"' message: \", msg);\n                callback(fig, msg);\n            } catch (e) {\n                console.log(\n                    \"Exception inside the 'handler_\" + msg_type + \"' callback:\",\n                    e,\n                    e.stack,\n                    msg\n                );\n            }\n        }\n    };\n};\n\nfunction getModifiers(event) {\n    var mods = [];\n    if (event.ctrlKey) {\n        mods.push('ctrl');\n    }\n    if (event.altKey) {\n        mods.push('alt');\n    }\n    if (event.shiftKey) {\n        mods.push('shift');\n    }\n    if (event.metaKey) {\n        mods.push('meta');\n    }\n    return mods;\n}\n\n/*\n * return a copy of an object with only non-object keys\n * we need this to avoid circular references\n * https://stackoverflow.com/a/24161582/3208463\n */\nfunction simpleKeys(original) {\n    return Object.keys(original).reduce(function (obj, key) {\n        if (typeof original[key] !== 'object') {\n            obj[key] = original[key];\n        }\n        return obj;\n    }, {});\n}\n\nmpl.figure.prototype.mouse_event = function (event, name) {\n    if (name === 'button_press') {\n        this.canvas.focus();\n        this.canvas_div.focus();\n    }\n\n    // from https://stackoverflow.com/q/1114465\n    var boundingRect = this.canvas.getBoundingClientRect();\n    var x = (event.clientX - boundingRect.left) * this.ratio;\n    var y = (event.clientY - boundingRect.top) * this.ratio;\n\n    this.send_message(name, {\n        x: x,\n        y: y,\n        button: event.button,\n        step: event.step,\n        modifiers: getModifiers(event),\n        guiEvent: simpleKeys(event),\n    });\n\n    return false;\n};\n\nmpl.figure.prototype._key_event_extra = function (_event, _name) {\n    // Handle any extra behaviour associated with a key event\n};\n\nmpl.figure.prototype.key_event = function (event, name) {\n    // Prevent repeat events\n    if (name === 'key_press') {\n        if (event.key === this._key) {\n            return;\n        } else {\n            this._key = event.key;\n        }\n    }\n    if (name === 'key_release') {\n        this._key = null;\n    }\n\n    var value = '';\n    if (event.ctrlKey && event.key !== 'Control') {\n        value += 'ctrl+';\n    }\n    else if (event.altKey && event.key !== 'Alt') {\n        value += 'alt+';\n    }\n    else if (event.shiftKey && event.key !== 'Shift') {\n        value += 'shift+';\n    }\n\n    value += 'k' + event.key;\n\n    this._key_event_extra(event, name);\n\n    this.send_message(name, { key: value, guiEvent: simpleKeys(event) });\n    return false;\n};\n\nmpl.figure.prototype.toolbar_button_onclick = function (name) {\n    if (name === 'download') {\n        this.handle_save(this, null);\n    } else {\n        this.send_message('toolbar_button', { name: name });\n    }\n};\n\nmpl.figure.prototype.toolbar_button_onmouseover = function (tooltip) {\n    this.message.textContent = tooltip;\n};\n\n///////////////// REMAINING CONTENT GENERATED BY embed_js.py /////////////////\n// prettier-ignore\nvar _JSXTOOLS_RESIZE_OBSERVER=function(A){var t,i=new WeakMap,n=new WeakMap,a=new WeakMap,r=new WeakMap,o=new Set;function s(e){if(!(this instanceof s))throw new TypeError(\"Constructor requires 'new' operator\");i.set(this,e)}function h(){throw new TypeError(\"Function is not a constructor\")}function c(e,t,i,n){e=0 in arguments?Number(arguments[0]):0,t=1 in arguments?Number(arguments[1]):0,i=2 in arguments?Number(arguments[2]):0,n=3 in arguments?Number(arguments[3]):0,this.right=(this.x=this.left=e)+(this.width=i),this.bottom=(this.y=this.top=t)+(this.height=n),Object.freeze(this)}function d(){t=requestAnimationFrame(d);var s=new WeakMap,p=new Set;o.forEach((function(t){r.get(t).forEach((function(i){var r=t instanceof window.SVGElement,o=a.get(t),d=r?0:parseFloat(o.paddingTop),f=r?0:parseFloat(o.paddingRight),l=r?0:parseFloat(o.paddingBottom),u=r?0:parseFloat(o.paddingLeft),g=r?0:parseFloat(o.borderTopWidth),m=r?0:parseFloat(o.borderRightWidth),w=r?0:parseFloat(o.borderBottomWidth),b=u+f,F=d+l,v=(r?0:parseFloat(o.borderLeftWidth))+m,W=g+w,y=r?0:t.offsetHeight-W-t.clientHeight,E=r?0:t.offsetWidth-v-t.clientWidth,R=b+v,z=F+W,M=r?t.width:parseFloat(o.width)-R-E,O=r?t.height:parseFloat(o.height)-z-y;if(n.has(t)){var k=n.get(t);if(k[0]===M&&k[1]===O)return}n.set(t,[M,O]);var S=Object.create(h.prototype);S.target=t,S.contentRect=new c(u,d,M,O),s.has(i)||(s.set(i,[]),p.add(i)),s.get(i).push(S)}))})),p.forEach((function(e){i.get(e).call(e,s.get(e),e)}))}return s.prototype.observe=function(i){if(i instanceof window.Element){r.has(i)||(r.set(i,new Set),o.add(i),a.set(i,window.getComputedStyle(i)));var n=r.get(i);n.has(this)||n.add(this),cancelAnimationFrame(t),t=requestAnimationFrame(d)}},s.prototype.unobserve=function(i){if(i instanceof window.Element&&r.has(i)){var n=r.get(i);n.has(this)&&(n.delete(this),n.size||(r.delete(i),o.delete(i))),n.size||r.delete(i),o.size||cancelAnimationFrame(t)}},A.DOMRectReadOnly=c,A.ResizeObserver=s,A.ResizeObserverEntry=h,A}; // eslint-disable-line\nmpl.toolbar_items = [[\"Home\", \"Reset original view\", \"fa fa-home\", \"home\"], [\"Back\", \"Back to previous view\", \"fa fa-arrow-left\", \"back\"], [\"Forward\", \"Forward to next view\", \"fa fa-arrow-right\", \"forward\"], [\"\", \"\", \"\", \"\"], [\"Pan\", \"Left button pans, Right button zooms\\nx/y fixes axis, CTRL fixes aspect\", \"fa fa-arrows\", \"pan\"], [\"Zoom\", \"Zoom to rectangle\\nx/y fixes axis\", \"fa fa-square-o\", \"zoom\"], [\"\", \"\", \"\", \"\"], [\"Download\", \"Download plot\", \"fa fa-floppy-o\", \"download\"]];\n\nmpl.extensions = [\"eps\", \"jpeg\", \"pgf\", \"pdf\", \"png\", \"ps\", \"raw\", \"svg\", \"tif\", \"webp\"];\n\nmpl.default_extension = \"png\";/* global mpl */\n\nvar comm_websocket_adapter = function (comm) {\n    // Create a \"websocket\"-like object which calls the given IPython comm\n    // object with the appropriate methods. Currently this is a non binary\n    // socket, so there is still some room for performance tuning.\n    var ws = {};\n\n    ws.binaryType = comm.kernel.ws.binaryType;\n    ws.readyState = comm.kernel.ws.readyState;\n    function updateReadyState(_event) {\n        if (comm.kernel.ws) {\n            ws.readyState = comm.kernel.ws.readyState;\n        } else {\n            ws.readyState = 3; // Closed state.\n        }\n    }\n    comm.kernel.ws.addEventListener('open', updateReadyState);\n    comm.kernel.ws.addEventListener('close', updateReadyState);\n    comm.kernel.ws.addEventListener('error', updateReadyState);\n\n    ws.close = function () {\n        comm.close();\n    };\n    ws.send = function (m) {\n        //console.log('sending', m);\n        comm.send(m);\n    };\n    // Register the callback with on_msg.\n    comm.on_msg(function (msg) {\n        //console.log('receiving', msg['content']['data'], msg);\n        var data = msg['content']['data'];\n        if (data['blob'] !== undefined) {\n            data = {\n                data: new Blob(msg['buffers'], { type: data['blob'] }),\n            };\n        }\n        // Pass the mpl event to the overridden (by mpl) onmessage function.\n        ws.onmessage(data);\n    });\n    return ws;\n};\n\nmpl.mpl_figure_comm = function (comm, msg) {\n    // This is the function which gets called when the mpl process\n    // starts-up an IPython Comm through the \"matplotlib\" channel.\n\n    var id = msg.content.data.id;\n    // Get hold of the div created by the display call when the Comm\n    // socket was opened in Python.\n    var element = document.getElementById(id);\n    var ws_proxy = comm_websocket_adapter(comm);\n\n    function ondownload(figure, _format) {\n        window.open(figure.canvas.toDataURL());\n    }\n\n    var fig = new mpl.figure(id, ws_proxy, ondownload, element);\n\n    // Call onopen now - mpl needs it, as it is assuming we've passed it a real\n    // web socket which is closed, not our websocket->open comm proxy.\n    ws_proxy.onopen();\n\n    fig.parent_element = element;\n    fig.cell_info = mpl.find_output_cell(\"<div id='\" + id + \"'></div>\");\n    if (!fig.cell_info) {\n        console.error('Failed to find cell for figure', id, fig);\n        return;\n    }\n    fig.cell_info[0].output_area.element.on(\n        'cleared',\n        { fig: fig },\n        fig._remove_fig_handler\n    );\n};\n\nmpl.figure.prototype.handle_close = function (fig, msg) {\n    var width = fig.canvas.width / fig.ratio;\n    fig.cell_info[0].output_area.element.off(\n        'cleared',\n        fig._remove_fig_handler\n    );\n    fig.resizeObserverInstance.unobserve(fig.canvas_div);\n\n    // Update the output cell to use the data from the current canvas.\n    fig.push_to_output();\n    var dataURL = fig.canvas.toDataURL();\n    // Re-enable the keyboard manager in IPython - without this line, in FF,\n    // the notebook keyboard shortcuts fail.\n    IPython.keyboard_manager.enable();\n    fig.parent_element.innerHTML =\n        '<img src=\"' + dataURL + '\" width=\"' + width + '\">';\n    fig.close_ws(fig, msg);\n};\n\nmpl.figure.prototype.close_ws = function (fig, msg) {\n    fig.send_message('closing', msg);\n    // fig.ws.close()\n};\n\nmpl.figure.prototype.push_to_output = function (_remove_interactive) {\n    // Turn the data on the canvas into data in the output cell.\n    var width = this.canvas.width / this.ratio;\n    var dataURL = this.canvas.toDataURL();\n    this.cell_info[1]['text/html'] =\n        '<img src=\"' + dataURL + '\" width=\"' + width + '\">';\n};\n\nmpl.figure.prototype.updated_canvas_event = function () {\n    // Tell IPython that the notebook contents must change.\n    IPython.notebook.set_dirty(true);\n    this.send_message('ack', {});\n    var fig = this;\n    // Wait a second, then push the new image to the DOM so\n    // that it is saved nicely (might be nice to debounce this).\n    setTimeout(function () {\n        fig.push_to_output();\n    }, 1000);\n};\n\nmpl.figure.prototype._init_toolbar = function () {\n    var fig = this;\n\n    var toolbar = document.createElement('div');\n    toolbar.classList = 'btn-toolbar';\n    this.root.appendChild(toolbar);\n\n    function on_click_closure(name) {\n        return function (_event) {\n            return fig.toolbar_button_onclick(name);\n        };\n    }\n\n    function on_mouseover_closure(tooltip) {\n        return function (event) {\n            if (!event.currentTarget.disabled) {\n                return fig.toolbar_button_onmouseover(tooltip);\n            }\n        };\n    }\n\n    fig.buttons = {};\n    var buttonGroup = document.createElement('div');\n    buttonGroup.classList = 'btn-group';\n    var button;\n    for (var toolbar_ind in mpl.toolbar_items) {\n        var name = mpl.toolbar_items[toolbar_ind][0];\n        var tooltip = mpl.toolbar_items[toolbar_ind][1];\n        var image = mpl.toolbar_items[toolbar_ind][2];\n        var method_name = mpl.toolbar_items[toolbar_ind][3];\n\n        if (!name) {\n            /* Instead of a spacer, we start a new button group. */\n            if (buttonGroup.hasChildNodes()) {\n                toolbar.appendChild(buttonGroup);\n            }\n            buttonGroup = document.createElement('div');\n            buttonGroup.classList = 'btn-group';\n            continue;\n        }\n\n        button = fig.buttons[name] = document.createElement('button');\n        button.classList = 'btn btn-default';\n        button.href = '#';\n        button.title = name;\n        button.innerHTML = '<i class=\"fa ' + image + ' fa-lg\"></i>';\n        button.addEventListener('click', on_click_closure(method_name));\n        button.addEventListener('mouseover', on_mouseover_closure(tooltip));\n        buttonGroup.appendChild(button);\n    }\n\n    if (buttonGroup.hasChildNodes()) {\n        toolbar.appendChild(buttonGroup);\n    }\n\n    // Add the status bar.\n    var status_bar = document.createElement('span');\n    status_bar.classList = 'mpl-message pull-right';\n    toolbar.appendChild(status_bar);\n    this.message = status_bar;\n\n    // Add the close button to the window.\n    var buttongrp = document.createElement('div');\n    buttongrp.classList = 'btn-group inline pull-right';\n    button = document.createElement('button');\n    button.classList = 'btn btn-mini btn-primary';\n    button.href = '#';\n    button.title = 'Stop Interaction';\n    button.innerHTML = '<i class=\"fa fa-power-off icon-remove icon-large\"></i>';\n    button.addEventListener('click', function (_evt) {\n        fig.handle_close(fig, {});\n    });\n    button.addEventListener(\n        'mouseover',\n        on_mouseover_closure('Stop Interaction')\n    );\n    buttongrp.appendChild(button);\n    var titlebar = this.root.querySelector('.ui-dialog-titlebar');\n    titlebar.insertBefore(buttongrp, titlebar.firstChild);\n};\n\nmpl.figure.prototype._remove_fig_handler = function (event) {\n    var fig = event.data.fig;\n    if (event.target !== this) {\n        // Ignore bubbled events from children.\n        return;\n    }\n    fig.close_ws(fig, {});\n};\n\nmpl.figure.prototype._root_extra_style = function (el) {\n    el.style.boxSizing = 'content-box'; // override notebook setting of border-box.\n};\n\nmpl.figure.prototype._canvas_extra_style = function (el) {\n    // this is important to make the div 'focusable\n    el.setAttribute('tabindex', 0);\n    // reach out to IPython and tell the keyboard manager to turn it's self\n    // off when our div gets focus\n\n    // location in version 3\n    if (IPython.notebook.keyboard_manager) {\n        IPython.notebook.keyboard_manager.register_events(el);\n    } else {\n        // location in version 2\n        IPython.keyboard_manager.register_events(el);\n    }\n};\n\nmpl.figure.prototype._key_event_extra = function (event, _name) {\n    // Check for shift+enter\n    if (event.shiftKey && event.which === 13) {\n        this.canvas_div.blur();\n        // select the cell after this one\n        var index = IPython.notebook.find_cell_index(this.cell_info[0]);\n        IPython.notebook.select(index + 1);\n    }\n};\n\nmpl.figure.prototype.handle_save = function (fig, _msg) {\n    fig.ondownload(fig, null);\n};\n\nmpl.find_output_cell = function (html_output) {\n    // Return the cell and output element which can be found *uniquely* in the notebook.\n    // Note - this is a bit hacky, but it is done because the \"notebook_saving.Notebook\"\n    // IPython event is triggered only after the cells have been serialised, which for\n    // our purposes (turning an active figure into a static one), is too late.\n    var cells = IPython.notebook.get_cells();\n    var ncells = cells.length;\n    for (var i = 0; i < ncells; i++) {\n        var cell = cells[i];\n        if (cell.cell_type === 'code') {\n            for (var j = 0; j < cell.output_area.outputs.length; j++) {\n                var data = cell.output_area.outputs[j];\n                if (data.data) {\n                    // IPython >= 3 moved mimebundle to data attribute of output\n                    data = data.data;\n                }\n                if (data['text/html'] === html_output) {\n                    return [cell, data, j];\n                }\n            }\n        }\n    }\n};\n\n// Register the function which deals with the matplotlib target/channel.\n// The kernel may be null if the page has been refreshed.\nif (IPython.notebook.kernel !== null) {\n    IPython.notebook.kernel.comm_manager.register_target(\n        'matplotlib',\n        mpl.mpl_figure_comm\n    );\n}\n",
      "text/plain": [
       "<IPython.core.display.Javascript object>"
      ]
     },
     "metadata": {},
     "output_type": "display_data"
    },
    {
     "data": {
      "text/html": [
       "<img src=\"data:image/png;base64,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\" width=\"640\">"
      ],
      "text/plain": [
       "<IPython.core.display.HTML object>"
      ]
     },
     "metadata": {},
     "output_type": "display_data"
    },
    {
     "data": {
      "text/plain": [
       "<Axes: xlabel='dt'>"
      ]
     },
     "execution_count": 7,
     "metadata": {},
     "output_type": "execute_result"
    }
   ],
   "source": [
    "%matplotlib notebook\n",
    "df[\"close\"].plot()"
   ]
  },
  {
   "cell_type": "markdown",
   "metadata": {},
   "source": [
    "# Step 2) Run Data Preparation Locally"
   ]
  },
  {
   "cell_type": "markdown",
   "metadata": {},
   "source": [
    "## Modify Data Preparation Code\n",
    "\n",
    "In the following cell, you can modify the data preparation code or leave it as is."
   ]
  },
  {
   "cell_type": "code",
   "execution_count": 13,
   "metadata": {},
   "outputs": [],
   "source": [
    "%mkdir model"
   ]
  },
  {
   "cell_type": "code",
   "execution_count": 14,
   "metadata": {
    "vscode": {
     "languageId": "plaintext"
    }
   },
   "outputs": [
    {
     "name": "stdout",
     "output_type": "stream",
     "text": [
      "Writing model/model_long_short_predict_prep.py\n"
     ]
    }
   ],
   "source": [
    "%%writefile model/{model_name}_prep.py\n",
    "#!/usr/bin/env python\n",
    "\n",
    "import numpy as np\n",
    "import pandas as pd\n",
    "import talib as ta\n",
    "from talib.abstract import *\n",
    "import math\n",
    "\n",
    "prefix = '/opt/ml/'\n",
    "input_path = prefix + 'input/data/training'\n",
    "\n",
    "data_orig_file = input_path+'/data_orig.csv'\n",
    "data_file = input_path+'/data.csv'\n",
    "\n",
    "d = pd.read_csv(data_orig_file,infer_datetime_format=True, parse_dates=['dt'], index_col=['dt'])\n",
    "print(d.head())\n",
    "\n",
    "repeatCount=15\n",
    "repeatStep=1\n",
    "lookBack=repeatCount*repeatStep\n",
    "forwardWindow=5\n",
    "\n",
    "profitTarget=2.0/100.0\n",
    "stopTarget=1.5/100.0\n",
    "\n",
    "iCount=lookBack\n",
    "\n",
    "# header\n",
    "hData=[\"dt\"]\n",
    "hData.append(\"close\")\n",
    "for a in range(0,repeatCount):\n",
    "    hData.append(\"sma\"+str((a+2)*repeatStep))\n",
    "for a in range(0,repeatCount):\n",
    "    hData.append(\"roc\"+str((a+2)*repeatStep))\n",
    "hData.append(\"long\")\n",
    "hData.append(\"short\")\n",
    "\n",
    "# data\n",
    "tData=[]\n",
    "\n",
    "inputs = {\n",
    "    'close': np.array(d[\"close\"])\n",
    "}\n",
    "sma=[]\n",
    "for a in range(0,repeatCount):\n",
    "    sma.append(SMA(inputs,timeperiod=(a+1)*repeatStep+1))\n",
    "roc=[]\n",
    "for a in range(0,repeatCount):\n",
    "    roc.append(ROC(inputs,timeperiod=(a+1)*repeatStep+1))\n",
    "\n",
    "closeList=d[\"close\"]\n",
    "dLen=len(d)\n",
    "n=0\n",
    "lCount=0\n",
    "sCount=0\n",
    "nCount=0\n",
    "n=0\n",
    "for idx,row in d.iterrows():\n",
    "    if n<dLen-forwardWindow-1:\n",
    "        dt1=idx\n",
    "        cl=row[\"close\"]\n",
    "        inputRec=[]\n",
    "        inputRec.append(idx)\n",
    "\n",
    "        inputRec0=[]\n",
    "\n",
    "        #close\n",
    "        inputRec0.append(cl)\n",
    "\n",
    "        #sma\n",
    "        for a in range(0,repeatCount):\n",
    "            if math.isnan(sma[a][n]):\n",
    "                inputRec0.append(cl)\n",
    "            else:\n",
    "                inputRec0.append(sma[a][n])\n",
    "\n",
    "        m1=min(inputRec0)\n",
    "        m2=max(inputRec0)\n",
    "        for a in inputRec0:\n",
    "            if m2-m1==0:\n",
    "                inputRec.append(0)\n",
    "            else:\n",
    "                inputRec.append((a-m1)/(m2-m1))\n",
    "\n",
    "        #roc\n",
    "        for a in range(0,repeatCount):\n",
    "            if math.isnan(roc[a][n]):\n",
    "                inputRec.append(0)\n",
    "            else:\n",
    "                inputRec.append(roc[a][n])\n",
    "\n",
    "        rClose=closeList[n+1:min(dLen-1,n+1+forwardWindow)].values.tolist()\n",
    "        low=min(rClose)\n",
    "        high=max(rClose)\n",
    "        \n",
    "        #long\n",
    "        long=0\n",
    "        if high>=cl+cl*profitTarget and low>=cl-cl*stopTarget:\n",
    "            long=1\n",
    "            lCount=lCount+1\n",
    "        inputRec.append(long)\n",
    " \n",
    "        #short\n",
    "        short=0\n",
    "        if low<=cl-cl*profitTarget and high<=cl+cl*stopTarget:\n",
    "            short=1\n",
    "            sCount=sCount+1\n",
    "        inputRec.append(short)\n",
    "\n",
    "        tData.append(inputRec)\n",
    "        n=n+1\n",
    "          \n",
    "print(\"lCount=%s,sCount=%s\" % (lCount,sCount))\n",
    "df1=pd.DataFrame(tData,columns=hData)\n",
    "df1.set_index(pd.DatetimeIndex(df1['dt']), inplace=True)\n",
    "del df1['dt']\n",
    " \n",
    "df1.to_csv(data_file)\n",
    "print(df1.head())\n",
    "print(\"count=%s\" % (len(df1)))"
   ]
  },
  {
   "cell_type": "markdown",
   "metadata": {},
   "source": [
    "## Run Data Preparation Locally in a Docker Container"
   ]
  },
  {
   "cell_type": "code",
   "execution_count": 17,
   "metadata": {
    "vscode": {
     "languageId": "plaintext"
    }
   },
   "outputs": [
    {
     "name": "stdout",
     "output_type": "stream",
     "text": [
      "Sending build context to Docker daemon  4.008MB\n",
      "Step 1/21 : FROM tensorflow/tensorflow:2.1.0rc2-py3\n",
      " ---> 021062082fec\n",
      "Step 2/21 : RUN apt-get -y update && apt-get install -y --no-install-recommends          wget          python3          nginx          ca-certificates     && rm -rf /var/lib/apt/lists/*\n",
      " ---> Using cache\n",
      " ---> 737b6f070f7f\n",
      "Step 3/21 : RUN wget https://sourceforge.net/projects/ta-lib/files/ta-lib/0.4.0/ta-lib-0.4.0-src.tar.gz && tar -xzf ta-lib-0.4.0-src.tar.gz && cd ta-lib/ && ./configure --prefix=/usr && make && make install && cd ../ && rm -rf ta-lib && rm ta-lib-0.4.0-src.tar.gz\n",
      " ---> Using cache\n",
      " ---> f190ab67a79e\n",
      "Step 4/21 : RUN pip install numpy\n",
      " ---> Using cache\n",
      " ---> 2bfc5ca70386\n",
      "Step 5/21 : RUN pip install scipy\n",
      " ---> Using cache\n",
      " ---> 9e70f31a276a\n",
      "Step 6/21 : RUN pip install scikit-learn\n",
      " ---> Using cache\n",
      " ---> 6678cf1bb921\n",
      "Step 7/21 : RUN pip install pandas\n",
      " ---> Using cache\n",
      " ---> 6af058476183\n",
      "Step 8/21 : RUN pip install flask\n",
      " ---> Using cache\n",
      " ---> d09d7ace1ae0\n",
      "Step 9/21 : RUN pip install gevent\n",
      " ---> Using cache\n",
      " ---> 2047eebb686d\n",
      "Step 10/21 : RUN pip install gunicorn\n",
      " ---> Using cache\n",
      " ---> 2584ef2d58e3\n",
      "Step 11/21 : RUN pip install tensorflow==2.2.0\n",
      " ---> Using cache\n",
      " ---> e7b53697e5ca\n",
      "Step 12/21 : RUN pip install keras\n",
      " ---> Using cache\n",
      " ---> dfe36fc3a5a6\n",
      "Step 13/21 : RUN pip install backtrader\n",
      " ---> Using cache\n",
      " ---> 392fbdb6521e\n",
      "Step 14/21 : RUN pip install matplotlib==3.2.2\n",
      " ---> Using cache\n",
      " ---> 96c82d76a5fd\n",
      "Step 15/21 : RUN pip install ta-lib\n",
      " ---> Using cache\n",
      " ---> 26d6f58b111a\n",
      "Step 16/21 : RUN pip install boto3\n",
      " ---> Using cache\n",
      " ---> 6af1fb8e3601\n",
      "Step 17/21 : ENV PYTHONUNBUFFERED=TRUE\n",
      " ---> Using cache\n",
      " ---> a96c09303683\n",
      "Step 18/21 : ENV PYTHONDONTWRITEBYTECODE=TRUE\n",
      " ---> Using cache\n",
      " ---> c391167eef58\n",
      "Step 19/21 : ENV PATH=\"/opt/program:${PATH}\"\n",
      " ---> Using cache\n",
      " ---> 1c97777c5e78\n",
      "Step 20/21 : COPY model /opt/program\n",
      " ---> Using cache\n",
      " ---> 909b36e6149d\n",
      "Step 21/21 : WORKDIR /opt/program\n",
      " ---> Using cache\n",
      " ---> 4b2dc48ce5f8\n",
      "Successfully built 4b2dc48ce5f8\n",
      "Successfully tagged model_long_short_predict_prep:latest\n",
      "            sym   open   high    low  close        vol\n",
      "dt                                                    \n",
      "2000-01-03  JNJ  93.13  93.75  91.69  92.19  2321200.0\n",
      "2000-01-04  JNJ  91.13  91.56  88.75  88.81  3911100.0\n",
      "2000-01-05  JNJ  88.81  90.81  88.44  90.19  4114800.0\n",
      "2000-01-06  JNJ  90.31  93.94  90.13  92.56  2678200.0\n",
      "2000-01-07  JNJ  94.13  96.94  93.63  96.50  4931900.0\n",
      "lCount=1185,sCount=1042\n",
      "               close      sma2      sma3      sma4  ...  roc15  roc16  long  short\n",
      "dt                                                  ...                           \n",
      "2000-01-03  0.000000  0.000000  0.000000  0.000000  ...    0.0    0.0     0      0\n",
      "2000-01-04  0.000000  1.000000  0.000000  0.000000  ...    0.0    0.0     1      0\n",
      "2000-01-05  0.769517  0.000000  1.000000  0.769517  ...    0.0    0.0     1      0\n",
      "2000-01-06  1.000000  0.419118  0.000000  0.204657  ...    0.0    0.0     1      0\n",
      "2000-01-07  1.000000  0.560758  0.238201  0.000000  ...    0.0    0.0     0      1\n",
      "\n",
      "[5 rows x 33 columns]\n",
      "count=5194\n"
     ]
    }
   ],
   "source": [
    "!cp model/{model_name}_prep.py model/train\n",
    "!chmod 777 model/train\n",
    "!docker build -t {model_name}_prep .\n",
    "!docker run -v $(pwd)/local/$model_name:/opt/ml --rm {model_name}_prep train"
   ]
  },
  {
   "cell_type": "markdown",
   "metadata": {},
   "source": [
    "## Create Training and Test Data"
   ]
  },
  {
   "cell_type": "code",
   "execution_count": 18,
   "metadata": {
    "vscode": {
     "languageId": "plaintext"
    }
   },
   "outputs": [
    {
     "name": "stderr",
     "output_type": "stream",
     "text": [
      "/tmp/ipykernel_9595/1995880456.py:1: FutureWarning: The argument 'infer_datetime_format' is deprecated and will be removed in a future version. A strict version of it is now the default, see https://pandas.pydata.org/pdeps/0004-consistent-to-datetime-parsing.html. You can safely remove this argument.\n",
      "  df = pd.read_csv(\"local/\"+model_name+\"/input/data/training/data.csv\", infer_datetime_format=True, parse_dates=['dt'], index_col=['dt'])\n"
     ]
    },
    {
     "name": "stdout",
     "output_type": "stream",
     "text": [
      "totalCount=5194\n",
      "trainCount=2077\n",
      "testCount=3117\n"
     ]
    },
    {
     "data": {
      "text/html": [
       "<div>\n",
       "<style scoped>\n",
       "    .dataframe tbody tr th:only-of-type {\n",
       "        vertical-align: middle;\n",
       "    }\n",
       "\n",
       "    .dataframe tbody tr th {\n",
       "        vertical-align: top;\n",
       "    }\n",
       "\n",
       "    .dataframe thead th {\n",
       "        text-align: right;\n",
       "    }\n",
       "</style>\n",
       "<table border=\"1\" class=\"dataframe\">\n",
       "  <thead>\n",
       "    <tr style=\"text-align: right;\">\n",
       "      <th></th>\n",
       "      <th>close</th>\n",
       "      <th>sma2</th>\n",
       "      <th>sma3</th>\n",
       "      <th>sma4</th>\n",
       "      <th>sma5</th>\n",
       "      <th>sma6</th>\n",
       "      <th>sma7</th>\n",
       "      <th>sma8</th>\n",
       "      <th>sma9</th>\n",
       "      <th>sma10</th>\n",
       "      <th>...</th>\n",
       "      <th>roc9</th>\n",
       "      <th>roc10</th>\n",
       "      <th>roc11</th>\n",
       "      <th>roc12</th>\n",
       "      <th>roc13</th>\n",
       "      <th>roc14</th>\n",
       "      <th>roc15</th>\n",
       "      <th>roc16</th>\n",
       "      <th>long</th>\n",
       "      <th>short</th>\n",
       "    </tr>\n",
       "    <tr>\n",
       "      <th>dt</th>\n",
       "      <th></th>\n",
       "      <th></th>\n",
       "      <th></th>\n",
       "      <th></th>\n",
       "      <th></th>\n",
       "      <th></th>\n",
       "      <th></th>\n",
       "      <th></th>\n",
       "      <th></th>\n",
       "      <th></th>\n",
       "      <th></th>\n",
       "      <th></th>\n",
       "      <th></th>\n",
       "      <th></th>\n",
       "      <th></th>\n",
       "      <th></th>\n",
       "      <th></th>\n",
       "      <th></th>\n",
       "      <th></th>\n",
       "      <th></th>\n",
       "      <th></th>\n",
       "    </tr>\n",
       "  </thead>\n",
       "  <tbody>\n",
       "    <tr>\n",
       "      <th>2008-04-09</th>\n",
       "      <td>0.985554</td>\n",
       "      <td>1.000000</td>\n",
       "      <td>0.947030</td>\n",
       "      <td>0.821830</td>\n",
       "      <td>0.658106</td>\n",
       "      <td>0.555377</td>\n",
       "      <td>0.559046</td>\n",
       "      <td>0.441413</td>\n",
       "      <td>0.276083</td>\n",
       "      <td>0.186196</td>\n",
       "      <td>...</td>\n",
       "      <td>2.584339</td>\n",
       "      <td>2.457496</td>\n",
       "      <td>2.695585</td>\n",
       "      <td>2.157497</td>\n",
       "      <td>1.391863</td>\n",
       "      <td>2.173243</td>\n",
       "      <td>1.500536</td>\n",
       "      <td>3.513429</td>\n",
       "      <td>0</td>\n",
       "      <td>0</td>\n",
       "    </tr>\n",
       "    <tr>\n",
       "      <th>2008-04-10</th>\n",
       "      <td>1.000000</td>\n",
       "      <td>0.979937</td>\n",
       "      <td>0.983281</td>\n",
       "      <td>0.939812</td>\n",
       "      <td>0.831473</td>\n",
       "      <td>0.682341</td>\n",
       "      <td>0.581549</td>\n",
       "      <td>0.576176</td>\n",
       "      <td>0.460536</td>\n",
       "      <td>0.298809</td>\n",
       "      <td>...</td>\n",
       "      <td>3.349953</td>\n",
       "      <td>2.646240</td>\n",
       "      <td>2.519320</td>\n",
       "      <td>2.757552</td>\n",
       "      <td>2.219140</td>\n",
       "      <td>1.453044</td>\n",
       "      <td>2.234895</td>\n",
       "      <td>1.561782</td>\n",
       "      <td>0</td>\n",
       "      <td>0</td>\n",
       "    </tr>\n",
       "    <tr>\n",
       "      <th>2008-04-11</th>\n",
       "      <td>0.717506</td>\n",
       "      <td>0.915853</td>\n",
       "      <td>0.965940</td>\n",
       "      <td>1.000000</td>\n",
       "      <td>0.977160</td>\n",
       "      <td>0.879790</td>\n",
       "      <td>0.731244</td>\n",
       "      <td>0.625845</td>\n",
       "      <td>0.618666</td>\n",
       "      <td>0.492712</td>\n",
       "      <td>...</td>\n",
       "      <td>1.741945</td>\n",
       "      <td>2.835774</td>\n",
       "      <td>2.135562</td>\n",
       "      <td>2.009274</td>\n",
       "      <td>2.246321</td>\n",
       "      <td>1.710587</td>\n",
       "      <td>0.948302</td>\n",
       "      <td>1.726264</td>\n",
       "      <td>0</td>\n",
       "      <td>0</td>\n",
       "    </tr>\n",
       "    <tr>\n",
       "      <th>2008-04-14</th>\n",
       "      <td>0.442133</td>\n",
       "      <td>0.624963</td>\n",
       "      <td>0.840609</td>\n",
       "      <td>0.934369</td>\n",
       "      <td>0.999062</td>\n",
       "      <td>1.000000</td>\n",
       "      <td>0.918296</td>\n",
       "      <td>0.776150</td>\n",
       "      <td>0.671843</td>\n",
       "      <td>0.667155</td>\n",
       "      <td>...</td>\n",
       "      <td>-0.197358</td>\n",
       "      <td>1.341144</td>\n",
       "      <td>2.430664</td>\n",
       "      <td>1.733210</td>\n",
       "      <td>1.607419</td>\n",
       "      <td>1.843532</td>\n",
       "      <td>1.309909</td>\n",
       "      <td>0.550627</td>\n",
       "      <td>0</td>\n",
       "      <td>0</td>\n",
       "    </tr>\n",
       "    <tr>\n",
       "      <th>2008-04-15</th>\n",
       "      <td>0.297760</td>\n",
       "      <td>0.373516</td>\n",
       "      <td>0.544667</td>\n",
       "      <td>0.769127</td>\n",
       "      <td>0.890335</td>\n",
       "      <td>0.979558</td>\n",
       "      <td>1.000000</td>\n",
       "      <td>0.929055</td>\n",
       "      <td>0.787832</td>\n",
       "      <td>0.681587</td>\n",
       "      <td>...</td>\n",
       "      <td>0.520594</td>\n",
       "      <td>-0.333991</td>\n",
       "      <td>1.202405</td>\n",
       "      <td>2.290433</td>\n",
       "      <td>1.593934</td>\n",
       "      <td>1.468315</td>\n",
       "      <td>1.704105</td>\n",
       "      <td>1.171213</td>\n",
       "      <td>1</td>\n",
       "      <td>0</td>\n",
       "    </tr>\n",
       "  </tbody>\n",
       "</table>\n",
       "<p>5 rows × 33 columns</p>\n",
       "</div>"
      ],
      "text/plain": [
       "               close      sma2      sma3      sma4      sma5      sma6  \\\n",
       "dt                                                                       \n",
       "2008-04-09  0.985554  1.000000  0.947030  0.821830  0.658106  0.555377   \n",
       "2008-04-10  1.000000  0.979937  0.983281  0.939812  0.831473  0.682341   \n",
       "2008-04-11  0.717506  0.915853  0.965940  1.000000  0.977160  0.879790   \n",
       "2008-04-14  0.442133  0.624963  0.840609  0.934369  0.999062  1.000000   \n",
       "2008-04-15  0.297760  0.373516  0.544667  0.769127  0.890335  0.979558   \n",
       "\n",
       "                sma7      sma8      sma9     sma10  ...      roc9     roc10  \\\n",
       "dt                                                  ...                       \n",
       "2008-04-09  0.559046  0.441413  0.276083  0.186196  ...  2.584339  2.457496   \n",
       "2008-04-10  0.581549  0.576176  0.460536  0.298809  ...  3.349953  2.646240   \n",
       "2008-04-11  0.731244  0.625845  0.618666  0.492712  ...  1.741945  2.835774   \n",
       "2008-04-14  0.918296  0.776150  0.671843  0.667155  ... -0.197358  1.341144   \n",
       "2008-04-15  1.000000  0.929055  0.787832  0.681587  ...  0.520594 -0.333991   \n",
       "\n",
       "               roc11     roc12     roc13     roc14     roc15     roc16  long  \\\n",
       "dt                                                                             \n",
       "2008-04-09  2.695585  2.157497  1.391863  2.173243  1.500536  3.513429     0   \n",
       "2008-04-10  2.519320  2.757552  2.219140  1.453044  2.234895  1.561782     0   \n",
       "2008-04-11  2.135562  2.009274  2.246321  1.710587  0.948302  1.726264     0   \n",
       "2008-04-14  2.430664  1.733210  1.607419  1.843532  1.309909  0.550627     0   \n",
       "2008-04-15  1.202405  2.290433  1.593934  1.468315  1.704105  1.171213     1   \n",
       "\n",
       "            short  \n",
       "dt                 \n",
       "2008-04-09      0  \n",
       "2008-04-10      0  \n",
       "2008-04-11      0  \n",
       "2008-04-14      0  \n",
       "2008-04-15      0  \n",
       "\n",
       "[5 rows x 33 columns]"
      ]
     },
     "execution_count": 18,
     "metadata": {},
     "output_type": "execute_result"
    }
   ],
   "source": [
    "df = pd.read_csv(\"local/\"+model_name+\"/input/data/training/data.csv\", infer_datetime_format=True, parse_dates=['dt'], index_col=['dt'])\n",
    "print(\"totalCount=%s\" % len(df))\n",
    "\n",
    "trainCount=int(len(df)*0.4)\n",
    "dfTrain = df.iloc[:trainCount]\n",
    "dfTrain.to_csv(\"local/\"+model_name+\"/input/data/training/data_train.csv\")\n",
    "print(\"trainCount=%s\" % len(dfTrain))\n",
    "\n",
    "dfTest = df.iloc[trainCount:]\n",
    "dfTest.to_csv(\"local/\"+model_name+\"/input/data/training/data_test.csv\")\n",
    "print(\"testCount=%s\" % len(dfTest))\n",
    "dfTest.head()"
   ]
  },
  {
   "cell_type": "markdown",
   "metadata": {},
   "source": [
    "# Step 3) Train the Model\n",
    "\n",
    "In the following cell, you can modify the model training code or leave it as is."
   ]
  },
  {
   "cell_type": "code",
   "execution_count": null,
   "metadata": {
    "vscode": {
     "languageId": "plaintext"
    }
   },
   "outputs": [],
   "source": [
    "%%writefile model/{model_name}.py\n",
    "#!/usr/bin/env python\n",
    "from __future__ import print_function\n",
    "\n",
    "import os\n",
    "import sys\n",
    "import traceback\n",
    "import math\n",
    "import numpy as np\n",
    "import pandas as pd\n",
    "import tensorflow as tf\n",
    "\n",
    "from tensorflow.keras.layers import Dropout, Dense\n",
    "from tensorflow.keras.wrappers.scikit_learn import KerasClassifier\n",
    "from tensorflow.keras.models import Sequential\n",
    "from tensorflow.keras.wrappers.scikit_learn import KerasRegressor\n",
    "\n",
    "yLen=2\n",
    "b=0\n",
    "\n",
    "# Optional\n",
    "os.environ['TF_CPP_MIN_LOG_LEVEL'] = '2'\n",
    "\n",
    "# These are the paths to where SageMaker mounts interesting things in your\n",
    "# container.\n",
    "prefix = '/opt/ml/'\n",
    "\n",
    "input_path = prefix + 'input/data/training/data_train.csv'\n",
    "test_path = prefix + 'input/data/training/data_test.csv'\n",
    "\n",
    "output_path = os.path.join(prefix, 'output')\n",
    "model_path = os.path.join(prefix, 'model')\n",
    "\n",
    "# Process and prepare the data\n",
    "def data_process(df):\n",
    "    global yLen\n",
    "    global b\n",
    "    dataX=[]\n",
    "    dataY=[]\n",
    "    for idx,row in df.iterrows():\n",
    "        row1=[]\n",
    "        r=row[1:len(row)-yLen]\n",
    "        for a in r:\n",
    "            row1.append(a)\n",
    "        x=np.array(row1)\n",
    "        y=np.array(row[len(row)-yLen:])\n",
    "        b=len(x)\n",
    "        dataX.append(x)\n",
    "        dataY.append(y)\n",
    "    dataX=np.array(dataX).astype(np.float32)\n",
    "    dataY=np.array(dataY).astype(np.float32)\n",
    "    return dataX,dataY,b\n",
    "\n",
    "def build_classifier():\n",
    "    global b\n",
    "    global yLen\n",
    "    print(\"build_classifier:b=%s,yLen=%s\" % (b,yLen))\n",
    "    model = Sequential()\n",
    "    model.add(Dense(b, input_dim=b, kernel_initializer='normal', activation='relu'))\n",
    "    model.add(Dropout(0.2))\n",
    "    model.add(Dense(int(b/2), kernel_initializer='normal', activation='relu'))\n",
    "    model.add(Dropout(0.2))\n",
    "    model.add(Dense(yLen,kernel_initializer='normal', activation='sigmoid'))\n",
    "    model.compile(loss='binary_crossentropy', optimizer='adam', metrics=['accuracy'])\n",
    "    return model\n",
    "\n",
    "def generate_model(dataX, dataY, b):\n",
    "    model=build_classifier()\n",
    "    model.fit(dataX, dataY, epochs=100, batch_size=1)\n",
    "    scores = model.evaluate(dataX, dataY, verbose=0)\n",
    "    print(\"Training Data %s: %.2f%%\" % (model.metrics_names[1], scores[1]*100))\n",
    "    return model\n",
    "        \n",
    "def train():\n",
    "    print('Starting the training.')\n",
    "    try:\n",
    "        raw_data = pd.read_csv(input_path)\n",
    "        #print(raw_data)\n",
    "        X, y, b = data_process(raw_data)\n",
    "        model = generate_model(X, y, b)\n",
    "        model.save(os.path.join(model_path, 'model.h5'))\n",
    "        \n",
    "        print('Training is complete. Model saved.')\n",
    "        \n",
    "        raw_data = pd.read_csv(test_path)\n",
    "        testX, testY, b = data_process(raw_data)\n",
    "        scores = model.evaluate(testX, testY, verbose=0)\n",
    "        print(\"Test Data %s: %.2f%%\" % (model.metrics_names[1], scores[1]*100))\n",
    "        \n",
    "    except Exception as e:\n",
    "        # Write out an error file. This will be returned as the failure\n",
    "        # Reason in the DescribeTrainingJob result.\n",
    "        trc = traceback.format_exc()\n",
    "        with open(os.path.join(output_path, 'failure'), 'w') as s:\n",
    "            s.write('Exception during training: ' + str(e) + '\\n' + trc)\n",
    "        # Printing this causes the exception to be in the training job logs\n",
    "        print(\n",
    "            'Exception during training: ' + str(e) + '\\n' + trc,\n",
    "            file=sys.stderr)\n",
    "        # A non-zero exit code causes the training job to be marked as Failed.\n",
    "        sys.exit(255)\n",
    "\n",
    "if __name__ == '__main__':\n",
    "    train()\n",
    "\n",
    "    # A zero exit code causes the job to be marked a Succeeded.\n",
    "    sys.exit(0)"
   ]
  },
  {
   "cell_type": "markdown",
   "metadata": {},
   "source": [
    "### Train Locally\n",
    "\n",
    "You can choose if you want to do the training locally (Option 1) or remote via SageMaker (Option 2)."
   ]
  },
  {
   "cell_type": "code",
   "execution_count": null,
   "metadata": {
    "vscode": {
     "languageId": "plaintext"
    }
   },
   "outputs": [],
   "source": [
    "# Build Local ML Image\n",
    "!cp model/{model_name}.py model/train\n",
    "!chmod 777 model/train\n",
    "!docker build -t {model_name} .\n",
    "!docker run -v $(pwd)/local/$model_name:/opt/ml --rm {model_name} train"
   ]
  },
  {
   "cell_type": "code",
   "execution_count": null,
   "metadata": {
    "vscode": {
     "languageId": "plaintext"
    }
   },
   "outputs": [],
   "source": [
    "!ls -la local/{model_name}/model/model.h5\n",
    "!cp local/{model_name}/model/model.h5 ../2_Strategies/model/{model_name}.h5\n",
    "!ls -la ../2_Strategies/model/model_*.h5"
   ]
  }
 ],
 "metadata": {
  "kernelspec": {
   "display_name": "conda_python3",
   "language": "python",
   "name": "conda_python3"
  },
  "language_info": {
   "codemirror_mode": {
    "name": "ipython",
    "version": 3
   },
   "file_extension": ".py",
   "mimetype": "text/x-python",
   "name": "python",
   "nbconvert_exporter": "python",
   "pygments_lexer": "ipython3",
   "version": "3.10.12"
  }
 },
 "nbformat": 4,
 "nbformat_minor": 2
}
