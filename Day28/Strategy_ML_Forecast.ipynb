{
 "cells": [
  {
   "cell_type": "markdown",
   "metadata": {},
   "source": [
    "## 歷史資料回溯測試\n",
    "在這份筆記中，我們將會使用昨日產生的模型來進行回測"
   ]
  },
  {
   "cell_type": "markdown",
   "metadata": {},
   "source": [
    "## 資料準備"
   ]
  },
  {
   "cell_type": "code",
   "execution_count": null,
   "metadata": {
    "vscode": {
     "languageId": "plaintext"
    }
   },
   "outputs": [],
   "source": [
    "%run init_model.py 'algo_ml_long_short_predict'"
   ]
  },
  {
   "cell_type": "code",
   "execution_count": null,
   "metadata": {
    "vscode": {
     "languageId": "plaintext"
    }
   },
   "outputs": [],
   "source": [
    "# get S3 bucket\n",
    "s3bucket=!(aws s3 ls | grep algotrading- | awk  '{print $3}')\n",
    "s3bucket=s3bucket[0]\n",
    "s3bucket"
   ]
  },
  {
   "cell_type": "code",
   "execution_count": null,
   "metadata": {
    "vscode": {
     "languageId": "plaintext"
    }
   },
   "outputs": [],
   "source": [
    "import sys\n",
    "!{sys.executable} -m pip install PyAthena"
   ]
  },
  {
   "cell_type": "code",
   "execution_count": null,
   "metadata": {
    "vscode": {
     "languageId": "plaintext"
    }
   },
   "outputs": [],
   "source": [
    "import os\n",
    "import sagemaker as sage\n",
    "from sagemaker import get_execution_role\n",
    "import datetime\n",
    "from sagemaker.tensorflow import TensorFlow\n",
    "import json\n",
    "\n",
    "role = get_execution_role()\n",
    "sess = sage.Session()\n",
    "region = sess.boto_session.region_name"
   ]
  },
  {
   "cell_type": "code",
   "execution_count": null,
   "metadata": {
    "vscode": {
     "languageId": "plaintext"
    }
   },
   "outputs": [],
   "source": [
    "trainCount=int(len(df)*0.4)\n",
    "dfTrain = df.iloc[:trainCount]\n",
    "\n",
    "dfTest = df.iloc[trainCount:]\n",
    "dfTest.to_csv('local/'+algo_name+'/input/data/training/data.csv')\n",
    "dfTest.head()"
   ]
  },
  {
   "cell_type": "code",
   "execution_count": null,
   "metadata": {
    "vscode": {
     "languageId": "plaintext"
    }
   },
   "outputs": [],
   "source": [
    "%matplotlib notebook\n",
    "dfTest[\"close\"].plot()"
   ]
  },
  {
   "cell_type": "markdown",
   "metadata": {},
   "source": [
    "## 修改策略配置\n",
    "在下面的單元格中，您可以調整策略的參數。\n",
    "\n",
    "user = 名稱（可選）\n",
    "long_threshold = 多頭交易的閾值（0 到 1）\n",
    "short_threshold = 空頭交易的閾值（0 到 1）\n",
    "profit_target_pct = 利潤目標百分比\n",
    "stop_target_pct = 止損目標百分比\n",
    "size = 交易的股數\n",
    "提示: 改進策略的一個良好起點是修改利潤目標/止損目標以及風險/回報比。另一個選擇是通過增加閾值來減少信號的數量。"
   ]
  },
  {
   "cell_type": "code",
   "execution_count": null,
   "metadata": {
    "vscode": {
     "languageId": "plaintext"
    }
   },
   "outputs": [],
   "source": [
    "%%writefile local/{algo_name}/input/config/hyperparameters.json\n",
    "{ \"user\" : \"user\",\n",
    "  \"long_threshold\" : \"0.5\",\n",
    "  \"short_threshold\" : \"0.5\",\n",
    "  \"profit_target_pct\" : \"2.00\",\n",
    "  \"stop_target_pct\" : \"1.50\",\n",
    "  \"size\" : \"100\"\n",
    "}"
   ]
  },
  {
   "cell_type": "markdown",
   "metadata": {},
   "source": [
    "## 修改策略代碼\n",
    "下面的程式碼，可能會需要不斷修改測試來改進我們的策略\n",
    "\n",
    "這段程式碼是一個用於量化交易的策略，使用了Backtrader庫，並結合了深度學習模型來進行交易決策。以下是對程式碼的詳細解釋：\n",
    "MyStrategy 類別是策略的主體，繼承自 StrategyTemplate。\n",
    "在 __init__ 方法中，策略初始化設定，包括讀取模型（'model_long_short_predict.h5'），並設定一些策略參數，如長期和短期閾值、交易量、利潤目標百分比、停損目標百分比等。\n",
    "在 add_data 方法中，向策略添加交易數據。通過讀取 MyStrategy.TRAIN_FILE 中的CSV數據來添加。\n",
    "next 方法是策略的核心，它在每個交易日呼叫一次。在這裡，策略計算技術指標（SMA和ROC）並準備模型的輸入數據。\n",
    "inputRec 是用於存儲輸入數據的列表，包括日期（dt）和收盤價（close）。\n",
    "接下來是計算SMA（簡單移動平均）和ROC（變化率）技術指標，並將它們添加到 inputRec 中。\n",
    "接下來，將 inputRec 轉換為NumPy數組，以供深度學習模型進行預測。\n",
    "模型預測兩個值，分別代表長期和短期的信號（tLong和tShort）。\n",
    "如果策略目前沒有持倉（position），則根據預測的信號和閾值，判斷是進行多頭交易（buy）還是空頭交易（sell）。如果預測的tLong大於長期閾值，則執行多頭交易；如果預測的tShort大於短期閾值，則執行空頭交易。\n",
    "如果策略目前有持倉，則根據限價價格（limitPrice）和停損價格（stopPrice）來判斷是否應該平倉。\n",
    "總之，這個策略將深度學習模型的預測信號與技術指標結合在一起，來做出交易決策，並根據預定的利潤目標和停損目標來進行風險管理。"
   ]
  },
  {
   "cell_type": "markdown",
   "metadata": {},
   "source": [
    "## 執行本地端回溯測試\n",
    "第一次因為要初始化 docker build image，時間會比較久"
   ]
  },
  {
   "cell_type": "code",
   "execution_count": null,
   "metadata": {
    "vscode": {
     "languageId": "plaintext"
    }
   },
   "outputs": [],
   "source": [
    "#Build Local Algo Image\n",
    "!docker build -t $algo_name .\n",
    "!docker run -v $(pwd)/local/$algo_name:/opt/ml --rm $algo_name train"
   ]
  },
  {
   "cell_type": "code",
   "execution_count": null,
   "metadata": {
    "vscode": {
     "languageId": "plaintext"
    }
   },
   "outputs": [],
   "source": [
    "from IPython.display import Image\n",
    "Image(filename='local/'+algo_name+'/model/chart.png')"
   ]
  },
  {
   "cell_type": "markdown",
   "metadata": {},
   "source": [
    "## 接著我們可以重複 修改策略配置 ～ 執行本地端回溯測試 步驟來調整我們的策略\n",
    "調整完畢之後可以將 docker image 推送到 ECR 上準備部署到 SageMaker 的 ECS 上"
   ]
  },
  {
   "cell_type": "code",
   "execution_count": null,
   "metadata": {
    "vscode": {
     "languageId": "plaintext"
    }
   },
   "outputs": [],
   "source": [
    "#Deploy Algo Image to ECS\n",
    "!./build_and_push.sh $algo_name"
   ]
  },
  {
   "cell_type": "markdown",
   "metadata": {},
   "source": [
    "這段程式碼是用於在Amazon SageMaker上運行遠程的前測試（Remote Forwardtest）的操作。\n",
    "\n",
    "引用SageMaker相關的庫和工具：\n",
    "\n",
    "import sagemaker as sage: 引用SageMaker的Python SDK。\n",
    "from sagemaker import get_execution_role: 從SageMaker庫中引入用於獲取執行角色的函數。\n",
    "from sagemaker.estimator import Estimator: 引入SageMaker估算器，用於定義和訓練機器學習模型。\n",
    "獲取SageMaker執行角色和建立SageMaker會話：\n",
    "\n",
    "role = get_execution_role(): 使用get_execution_role函數獲取SageMaker的執行角色，該角色賦予了運行SageMaker作業的權限。\n",
    "sess = sage.Session(): 建立SageMaker會話，用於管理SageMaker作業。\n",
    "\n",
    "上傳訓練數據到S3存儲桶：\n",
    "WORK_DIRECTORY定義了本地訓練數據的目錄。\n",
    "data_location = sess.upload_data(WORK_DIRECTORY, key_prefix='data')：使用SageMaker會話的upload_data方法將本地訓練數據上傳到S3存儲桶中，同時指定了上傳的目標路徑。\n",
    "讀取並設置模型的 hyperparameters 配置：\n",
    "\n",
    "conf_file定義了超參數配置文件的路徑。\n",
    "使用 json.load(f) 讀取超參數配置文件，並將其存儲在config變數中。\n",
    "配置 SageMaker 估算器：\n",
    "\n",
    "prefix 和 job_name 用於定義作業名稱。\n",
    "account 和 region用於獲取AWS帳戶和區域信息。\n",
    "image 指定了 Docker 映像的 URI，其中包含了要運行的機器學習算法。\n",
    "algo = sage.estimator.Estimator(...): 創建一個SageMaker估算器，配置了執行訓練作業所需的所有參數，包括執行角色、實例數量、實例類型、輸出路徑、超參數等。\n",
    "訓練模型：\n",
    "\n",
    "algo.fit(data_location): 使用估算器的fit方法開始訓練模型，並將訓練數據從S3存儲桶中讀取。訓練完成後，模型的結果和輸出將被存儲在指定的S3存儲桶中。"
   ]
  },
  {
   "cell_type": "code",
   "execution_count": null,
   "metadata": {
    "vscode": {
     "languageId": "plaintext"
    }
   },
   "outputs": [],
   "source": [
    "#Run Remote Forwardtest via SageMaker\n",
    "import sagemaker as sage\n",
    "from sagemaker import get_execution_role\n",
    "from sagemaker.estimator import Estimator \n",
    "\n",
    "role = get_execution_role()\n",
    "sess = sage.Session()\n",
    "\n",
    "WORK_DIRECTORY = 'local/'+algo_name+'/input/data/training'\n",
    "data_location = sess.upload_data(WORK_DIRECTORY, key_prefix='data')\n",
    "print(data_location)\n",
    "\n",
    "conf_file='local/'+algo_name+'/input/config/hyperparameters.json'\n",
    "with open(conf_file, 'r') as f:\n",
    "    config = json.load(f)\n",
    "#config['sim_data']='True'\n",
    "print(config)\n",
    "\n",
    "prefix=algo_name\n",
    "job_name=prefix.replace('_','-')\n",
    "\n",
    "account = sess.boto_session.client('sts').get_caller_identity()['Account']\n",
    "region = sess.boto_session.region_name\n",
    "image = f'{account}.dkr.ecr.{region}.amazonaws.com/{prefix}:latest'\n",
    "\n",
    "algo = sage.estimator.Estimator(\n",
    "    image_uri=image,\n",
    "    role=role,\n",
    "    instance_count=1,\n",
    "    instance_type='ml.m4.xlarge',\n",
    "    output_path=\"s3://{}/output\".format(sess.default_bucket()),\n",
    "    sagemaker_session=sess,\n",
    "    base_job_name=job_name,\n",
    "    hyperparameters=config,\n",
    "    metric_definitions=[\n",
    "        {\n",
    "            \"Name\": \"algo:pnl\",\n",
    "            \"Regex\": \"Total PnL:(.*?)]\"\n",
    "        },\n",
    "        {\n",
    "            \"Name\": \"algo:sharpe_ratio\",\n",
    "            \"Regex\": \"Sharpe Ratio:(.*?),\"\n",
    "        }\n",
    "    ])\n",
    "algo.fit(data_location)"
   ]
  },
  {
   "cell_type": "code",
   "execution_count": null,
   "metadata": {
    "vscode": {
     "languageId": "plaintext"
    }
   },
   "outputs": [],
   "source": [
    "#Get Algo Metrics\n",
    "from sagemaker.analytics import TrainingJobAnalytics\n",
    "\n",
    "latest_job_name = algo.latest_training_job.job_name\n",
    "metrics_dataframe = TrainingJobAnalytics(training_job_name=latest_job_name).dataframe()\n",
    "metrics_dataframe"
   ]
  }
 ],
 "metadata": {
  "language_info": {
   "name": "python"
  },
  "orig_nbformat": 4
 },
 "nbformat": 4,
 "nbformat_minor": 2
}
