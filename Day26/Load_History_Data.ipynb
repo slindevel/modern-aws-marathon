{
 "cells": [
  {
   "cell_type": "markdown",
   "id": "ecacf686",
   "metadata": {},
   "source": [
    "## 從AWS Data Exchange輸出每日數據到S3存儲桶\n",
    "我們從AWS Data Exchange獲取EOD股票數據並將其輸出到S3存儲桶。然後，我們對數據進行格式化，以用於我們的每日數據集。在此範例中，我們使用以下數據：https://aws.amazon.com/marketplace/pp/prodview-e2aizdzkos266\n",
    "\n",
    "輸出數據集\n",
    "包含10大美國公司之一的20年EOD數據\n",
    "數據以CSV格式保存到指定的S3存儲桶中。\n",
    "hist_data_daily/{sym}.csv（列：日期，股票代號，開盤價，最高價，最低價，收盤價，交易量）"
   ]
  },
  {
   "cell_type": "code",
   "execution_count": null,
   "id": "c2eedf89",
   "metadata": {},
   "outputs": [],
   "source": [
    "# get S3 bucket\n",
    "s3bucket=!(aws s3 ls | grep algotrading- | awk  '{print $3}')\n",
    "s3bucket=s3bucket[0]\n",
    "s3bucket"
   ]
  },
  {
   "cell_type": "code",
   "execution_count": null,
   "id": "4ed3a28f",
   "metadata": {},
   "outputs": [],
   "source": [
    "# symbol\n",
    "sym='JNJ'"
   ]
  },
  {
   "cell_type": "code",
   "execution_count": null,
   "id": "a87b3474",
   "metadata": {},
   "outputs": [],
   "source": [
    "# copy daily eod data to local\n",
    "! aws s3 cp s3://{s3bucket}/daily_adjusted_{sym}.csv ./"
   ]
  },
  {
   "cell_type": "code",
   "execution_count": null,
   "id": "96fa24f3",
   "metadata": {},
   "outputs": [],
   "source": [
    "import pandas as pd\n",
    "\n",
    "df = pd.read_csv(\"daily_adjusted_\"+sym+\".csv\",infer_datetime_format=True, parse_dates=['timestamp'], index_col=['timestamp'])\n",
    "del df[\"split_coefficient\"]\n",
    "del df[\"dividend_amount\"]\n",
    "del df[\"adjusted_close\"]\n",
    "df.rename(inplace=True,columns={'volume':'vol'})\n",
    "df.index=df.index.rename('dt')\n",
    "df['sym']=sym\n",
    "df = df[['sym', 'open', 'high', 'low', 'close','vol']]\n",
    "df.sort_index(inplace=True)\n",
    "df.head()"
   ]
  },
  {
   "cell_type": "code",
   "execution_count": null,
   "id": "ad92150f",
   "metadata": {},
   "outputs": [],
   "source": [
    "df.to_csv(sym+'.csv')"
   ]
  },
  {
   "cell_type": "code",
   "execution_count": null,
   "id": "67b94874",
   "metadata": {},
   "outputs": [],
   "source": [
    "!aws s3 cp {sym}.csv s3://{s3bucket}/hist_data_daily/\n",
    "!rm daily_adjusted_{sym}.csv\n",
    "!rm {sym}.csv"
   ]
  }
 ],
 "metadata": {
  "kernelspec": {
   "display_name": "conda_python3",
   "language": "python",
   "name": "conda_python3"
  },
  "language_info": {
   "codemirror_mode": {
    "name": "ipython",
    "version": 3
   },
   "file_extension": ".py",
   "mimetype": "text/x-python",
   "name": "python",
   "nbconvert_exporter": "python",
   "pygments_lexer": "ipython3",
   "version": "3.10.12"
  }
 },
 "nbformat": 4,
 "nbformat_minor": 5
}
